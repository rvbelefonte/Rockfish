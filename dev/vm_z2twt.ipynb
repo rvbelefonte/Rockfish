{
 "metadata": {
  "name": ""
 },
 "nbformat": 3,
 "nbformat_minor": 0,
 "worksheets": [
  {
   "cells": [
    {
     "cell_type": "heading",
     "level": 1,
     "metadata": {},
     "source": [
      "Dev notes for a function that converts velocity models from depth to two-way travel time"
     ]
    },
    {
     "cell_type": "heading",
     "level": 2,
     "metadata": {},
     "source": [
      "Load example model"
     ]
    },
    {
     "cell_type": "code",
     "collapsed": false,
     "input": [
      "from rockfish.tomography import readVM\n",
      "from rockfish.tomography.model import VMGrids\n",
      "from rockfish.utils.loaders import get_example_file\n",
      "from scipy.interpolate import interp1d"
     ],
     "language": "python",
     "metadata": {},
     "outputs": [],
     "prompt_number": 1
    },
    {
     "cell_type": "code",
     "collapsed": false,
     "input": [
      "# load example model\n",
      "vm = readVM(get_example_file('1d.vm'))\n",
      "\n",
      "print vm\n",
      "\n",
      "vm.plot()"
     ],
     "language": "python",
     "metadata": {},
     "outputs": [
      {
       "output_type": "stream",
       "stream": "stdout",
       "text": [
        "================================Velocity Model================================\n",
        "Grid Dimensions:\n",
        " xmin =   0.000, xmax = 100.000, dx =   0.500, nx =   201\n",
        " ymin =   0.000, ymax =   0.000, dy =   1.000, ny =     1\n",
        " zmin =   0.000, zmax =  15.000, dz =   0.100, nz =   151\n",
        "Interfaces: nr = 1\n",
        "================================Velocity Model================================\n",
        "[Use \"print VM.__str__(extended=True)\" for more detailed information]\n"
       ]
      },
      {
       "metadata": {},
       "output_type": "display_data",
       "png": "[encoded data removed]",
       "text": [
        "<matplotlib.figure.Figure at 0x11042fb10>"
       ]
      }
     ],
     "prompt_number": 2
    },
    {
     "cell_type": "code",
     "collapsed": false,
     "input": [
      "vm.plot(grid='twt')"
     ],
     "language": "python",
     "metadata": {},
     "outputs": [
      {
       "metadata": {},
       "output_type": "display_data",
       "png": "[encoded data removed]",
       "text": [
        "<matplotlib.figure.Figure at 0x110270a50>"
       ]
      }
     ],
     "prompt_number": 3
    },
    {
     "cell_type": "code",
     "collapsed": false,
     "input": [
      "vm.plot(grid='slowness')"
     ],
     "language": "python",
     "metadata": {},
     "outputs": [
      {
       "metadata": {},
       "output_type": "display_data",
       "png": "[encoded data removed]",
       "text": [
        "<matplotlib.figure.Figure at 0x11042f850>"
       ]
      }
     ],
     "prompt_number": 4
    },
    {
     "cell_type": "code",
     "collapsed": false,
     "input": [
      "vm.time_model.write_ascii_grid('test.dat', grid='velocity')"
     ],
     "language": "python",
     "metadata": {},
     "outputs": [],
     "prompt_number": 5
    },
    {
     "cell_type": "heading",
     "level": 2,
     "metadata": {},
     "source": [
      "Converting depth to time"
     ]
    },
    {
     "cell_type": "code",
     "collapsed": false,
     "input": [
      "type(vm.sl)"
     ],
     "language": "python",
     "metadata": {},
     "outputs": [
      {
       "metadata": {},
       "output_type": "pyout",
       "prompt_number": 6,
       "text": [
        "numpy.ndarray"
       ]
      }
     ],
     "prompt_number": 6
    },
    {
     "cell_type": "code",
     "collapsed": false,
     "input": [
      "# interpolate onto regular grid\n",
      "\n",
      "dt = 0.1\n",
      "vm.t = np.arange(vm.twt.min(), vm.twt.max(), dt)\n",
      "vm.nt = len(vm.t)\n",
      "\n",
      "vm.sl_twt = np.zeros(vm.sl.shape)\n",
      "for ix in vm.xrange2i():\n",
      "    for iy in vm.yrange2i():\n",
      "        \n",
      "        twt2sl = interp1d(vm.twt[ix, iy, :], vm.sl[ix, iy, :], kind='linear')\n",
      "        \n",
      "        vm.sl_twt[ix, iy, :] = twt2sl(\n",
      "\n"
     ],
     "language": "python",
     "metadata": {},
     "outputs": [
      {
       "ename": "SyntaxError",
       "evalue": "invalid syntax (<ipython-input-7-451ca849cf9c>, line 13)",
       "output_type": "pyerr",
       "traceback": [
        "\u001b[0;36m  File \u001b[0;32m\"<ipython-input-7-451ca849cf9c>\"\u001b[0;36m, line \u001b[0;32m13\u001b[0m\n\u001b[0;31m    vm.sl_twt[ix, iy, :] = twt2sl(\u001b[0m\n\u001b[0m                                  ^\u001b[0m\n\u001b[0;31mSyntaxError\u001b[0m\u001b[0;31m:\u001b[0m invalid syntax\n"
       ]
      }
     ],
     "prompt_number": 7
    },
    {
     "cell_type": "code",
     "collapsed": false,
     "input": [],
     "language": "python",
     "metadata": {},
     "outputs": []
    },
    {
     "cell_type": "code",
     "collapsed": false,
     "input": [],
     "language": "python",
     "metadata": {},
     "outputs": []
    }
   ],
   "metadata": {}
  }
 ]
}