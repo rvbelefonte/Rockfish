{
 "metadata": {
  "name": ""
 },
 "nbformat": 3,
 "nbformat_minor": 0,
 "worksheets": [
  {
   "cells": [
    {
     "cell_type": "code",
     "collapsed": false,
     "input": [
      "import matplotlib.pyplot as plt\n",
      "import numpy as np"
     ],
     "language": "python",
     "metadata": {},
     "outputs": [],
     "prompt_number": 1
    },
    {
     "cell_type": "code",
     "collapsed": false,
     "input": [
      "nrec = 7\n",
      "drec = 2000.\n",
      "rec = {'x': np.arange(0, nrec * drec, drec)}\n",
      "\n",
      "src = {'x': np.arange(-2000, max(rec['x']) + 2000., 25.)}\n",
      "nsrc = len(src['x'])\n",
      "\n",
      "cdp = {}\n",
      "cdp['x'] = []\n",
      "for rx in rec['x']:\n",
      "    for sx in src['x']:\n",
      "        cdp['x'].append(rx + abs(rx - sx) / 2.)\n",
      "    \n",
      "dx_bin = 6.25\n",
      "xbins = [(x, x + dx_bin) for x in np.arange(-5000, 20000, dx_bin)]\n",
      "\n",
      "nbins = np.zeros(len(xbins))\n",
      "\n",
      "for ibin in range(len(nbins)):\n",
      "    for icdp in range(len(cdp['x'])):\n",
      "        if (cdp['x'][icdp] >= xbins[ibin][0]) and (cdp['x'][icdp] < xbins[ibin][1]):\n",
      "            nbins[ibin] += 1"
     ],
     "language": "python",
     "metadata": {},
     "outputs": [],
     "prompt_number": 41
    },
    {
     "cell_type": "code",
     "collapsed": false,
     "input": [
      "max(nbins)"
     ],
     "language": "python",
     "metadata": {},
     "outputs": [
      {
       "metadata": {},
       "output_type": "pyout",
       "prompt_number": 42,
       "text": [
        "6.0"
       ]
      }
     ],
     "prompt_number": 42
    },
    {
     "cell_type": "code",
     "collapsed": false,
     "input": [
      "fig = plt.figure()\n",
      "ax = fig.add_subplot(111)\n",
      "\n",
      "ax.plot(rec['x'], np.zeros(nrec), '^b')\n",
      "ax.plot(src['x'], np.ones(nsrc), '*r')\n",
      "\n",
      "ax.plot(cdp['x'], 2 * np.ones(len(cdp['x'])), '.g')"
     ],
     "language": "python",
     "metadata": {},
     "outputs": [
      {
       "metadata": {},
       "output_type": "pyout",
       "prompt_number": 34,
       "text": [
        "[<matplotlib.lines.Line2D at 0x10ebf4150>]"
       ]
      },
      {
       "metadata": {},
       "output_type": "display_data",
       "png": "[encoded data removed]",
       "text": [
        "<matplotlib.figure.Figure at 0x10e541d50>"
       ]
      }
     ],
     "prompt_number": 34
    },
    {
     "cell_type": "code",
     "collapsed": false,
     "input": [
      "max(nbins)"
     ],
     "language": "python",
     "metadata": {},
     "outputs": [
      {
       "metadata": {},
       "output_type": "pyout",
       "prompt_number": 35,
       "text": [
        "6.0"
       ]
      }
     ],
     "prompt_number": 35
    },
    {
     "cell_type": "code",
     "collapsed": false,
     "input": [],
     "language": "python",
     "metadata": {},
     "outputs": [
      {
       "metadata": {},
       "output_type": "pyout",
       "prompt_number": 15,
       "text": [
        "-2000"
       ]
      }
     ],
     "prompt_number": 15
    },
    {
     "cell_type": "code",
     "collapsed": false,
     "input": [],
     "language": "python",
     "metadata": {},
     "outputs": []
    }
   ],
   "metadata": {}
  }
 ]
}