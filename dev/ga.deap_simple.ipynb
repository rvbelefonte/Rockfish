{
 "metadata": {
  "name": ""
 },
 "nbformat": 3,
 "nbformat_minor": 0,
 "worksheets": [
  {
   "cells": [
    {
     "cell_type": "code",
     "collapsed": false,
     "input": [
      "import array, random\n",
      "from deap import creator, base, tools, algorithms\n",
      "\n",
      "creator.create(\"FitnessMax\", base.Fitness, weights=(1.0,))\n",
      "creator.create(\"Individual\", array.array, typecode='b', fitness=creator.FitnessMax)\n",
      "\n",
      "toolbox = base.Toolbox()\n",
      "\n",
      "nparam = 10\n",
      "\n",
      "toolbox.register(\"attr_bool\", random.randint, 0, 1)\n",
      "toolbox.register(\"individual\", tools.initRepeat, creator.Individual, toolbox.attr_bool, nparam)\n",
      "toolbox.register(\"population\", tools.initRepeat, list, toolbox.individual)\n",
      "\n",
      "def evalOneMax(individual):\n",
      "    return sum(individual),\n",
      "\n",
      "toolbox.register(\"evaluate\", evalOneMax)\n",
      "toolbox.register(\"mate\", tools.cxTwoPoints)\n",
      "toolbox.register(\"mutate\", tools.mutFlipBit, indpb=0.05)\n",
      "toolbox.register(\"select\", tools.selTournament, tournsize=3)\n",
      "\n",
      "population = toolbox.population(n=10)\n",
      "\n",
      "target_fitness = nparam\n",
      "\n",
      "NGEN=200\n",
      "max_fit = []\n",
      "for gen in range(NGEN):\n",
      "    offspring = algorithms.varAnd(population, toolbox, cxpb=0.5, mutpb=0.1)\n",
      "    fits = toolbox.map(toolbox.evaluate, offspring)\n",
      "    for fit, ind in zip(fits, offspring):\n",
      "        ind.fitness.values = fit\n",
      "    population = offspring\n",
      "    \n",
      "    max_fit.append(np.max(fits))\n",
      "    \n",
      "    print 'Gen {:}: max fitness = {:}, target = {:}, indiviudal = {:}'\\\n",
      "        .format(gen, max_fit[0], target_fitness, population[np.argmax(fits)])\n",
      "        \n",
      "    if max_fit[-1] >= target_fitness:\n",
      "        break\n",
      "        \n",
      "plot(max_fit)"
     ],
     "language": "python",
     "metadata": {},
     "outputs": [
      {
       "output_type": "stream",
       "stream": "stdout",
       "text": [
        "Gen 0: max fitness = 9, target = 10, indiviudal = array('b', [0, 1, 1, 1, 1, 1, 1, 1, 1, 1])\n",
        "Gen 1: max fitness = 9, target = 10, indiviudal = array('b', [0, 1, 1, 1, 1, 1, 1, 1, 1, 1])\n",
        "Gen 2: max fitness = 9, target = 10, indiviudal = array('b', [1, 1, 1, 0, 1, 0, 1, 1, 0, 1])\n",
        "Gen 3: max fitness = 9, target = 10, indiviudal = array('b', [1, 1, 1, 1, 1, 1, 1, 1, 0, 0])\n",
        "Gen 4: max fitness = 9, target = 10, indiviudal = array('b', [1, 1, 1, 1, 1, 1, 1, 1, 0, 0])\n",
        "Gen 5: max fitness = 9, target = 10, indiviudal = array('b', [1, 1, 1, 1, 1, 1, 1, 1, 0, 0])\n",
        "Gen 6: max fitness = 9, target = 10, indiviudal = array('b', [1, 1, 1, 1, 1, 1, 1, 0, 0, 1])\n",
        "Gen 7: max fitness = 9, target = 10, indiviudal = array('b', [1, 1, 1, 1, 1, 1, 1, 0, 0, 1])\n",
        "Gen 8: max fitness = 9, target = 10, indiviudal = array('b', [1, 1, 1, 1, 1, 1, 1, 0, 0, 1])\n",
        "Gen 9: max fitness = 9, target = 10, indiviudal = array('b', [1, 1, 1, 1, 1, 1, 1, 0, 0, 1])\n",
        "Gen 10: max fitness = 9, target = 10, indiviudal = array('b', [1, 1, 1, 1, 1, 1, 1, 0, 0, 1])\n",
        "Gen 11: max fitness = 9, target = 10, indiviudal = array('b', [1, 1, 1, 1, 1, 1, 1, 0, 0, 1])\n",
        "Gen 12: max fitness = 9, target = 10, indiviudal = array('b', [1, 1, 1, 1, 1, 1, 0, 1, 0, 0])\n",
        "Gen 13: max fitness = 9, target = 10, indiviudal = array('b', [1, 1, 1, 1, 1, 1, 0, 1, 0, 0])\n",
        "Gen 14: max fitness = 9, target = 10, indiviudal = array('b', [0, 1, 1, 1, 0, 1, 1, 1, 1, 1])\n",
        "Gen 15: max fitness = 9, target = 10, indiviudal = array('b', [0, 1, 1, 1, 0, 1, 1, 1, 1, 1])\n",
        "Gen 16: max fitness = 9, target = 10, indiviudal = array('b', [1, 1, 1, 1, 1, 0, 1, 0, 0, 1])\n",
        "Gen 17: max fitness = 9, target = 10, indiviudal = array('b', [0, 1, 1, 1, 0, 1, 1, 1, 1, 1])\n",
        "Gen 18: max fitness = 9, target = 10, indiviudal = array('b', [1, 1, 1, 1, 1, 0, 1, 1, 0, 0])\n",
        "Gen 19: max fitness = 9, target = 10, indiviudal = array('b', [0, 1, 1, 0, 0, 1, 1, 1, 1, 1])\n",
        "Gen 20: max fitness = 9, target = 10, indiviudal = array('b', [0, 1, 1, 0, 0, 1, 1, 1, 1, 1])\n",
        "Gen 21: max fitness = 9, target = 10, indiviudal = array('b', [1, 1, 1, 0, 0, 0, 1, 1, 0, 1])\n",
        "Gen 22: max fitness = 9, target = 10, indiviudal = array('b', [1, 1, 1, 0, 0, 0, 1, 1, 0, 1])\n",
        "Gen 23: max fitness = 9, target = 10, indiviudal = array('b', [1, 1, 1, 0, 0, 0, 1, 1, 0, 1])\n",
        "Gen 24: max fitness = 9, target = 10, indiviudal = array('b', [1, 1, 1, 1, 1, 0, 1, 0, 0, 1])\n",
        "Gen 25: max fitness = 9, target = 10, indiviudal = array('b', [1, 1, 1, 1, 1, 0, 1, 1, 0, 0])\n",
        "Gen 26: max fitness = 9, target = 10, indiviudal = array('b', [1, 1, 1, 1, 1, 0, 1, 1, 0, 0])\n",
        "Gen 27: max fitness = 9, target = 10, indiviudal = array('b', [1, 1, 1, 1, 1, 0, 1, 1, 0, 0])\n",
        "Gen 28: max fitness = 9, target = 10, indiviudal = array('b', [1, 1, 1, 1, 1, 0, 1, 1, 0, 0])\n",
        "Gen 29: max fitness = 9, target = 10, indiviudal = array('b', [1, 1, 1, 1, 1, 0, 1, 1, 0, 0])\n",
        "Gen 30: max fitness = 9, target = 10, indiviudal = array('b', [1, 1, 1, 1, 1, 0, 1, 0, 0, 1])\n",
        "Gen 31: max fitness = 9, target = 10, indiviudal = array('b', [1, 1, 1, 1, 1, 0, 1, 1, 0, 0])\n",
        "Gen 32: max fitness = 9, target = 10, indiviudal = array('b', [1, 1, 1, 1, 1, 0, 1, 1, 0, 0])\n",
        "Gen 33: max fitness = 9, target = 10, indiviudal = array('b', [1, 1, 1, 1, 1, 0, 1, 1, 0, 1])\n",
        "Gen 34: max fitness = 9, target = 10, indiviudal = array('b', [1, 1, 1, 1, 1, 0, 1, 1, 0, 1])\n",
        "Gen 35: max fitness = 9, target = 10, indiviudal = array('b', [1, 1, 1, 1, 1, 0, 1, 1, 0, 1])\n",
        "Gen 36: max fitness = 9, target = 10, indiviudal = array('b', [1, 1, 1, 0, 1, 0, 1, 1, 0, 1])\n",
        "Gen 37: max fitness = 9, target = 10, indiviudal = array('b', [1, 1, 1, 0, 1, 0, 1, 1, 0, 1])\n",
        "Gen 38: max fitness = 9, target = 10, indiviudal = array('b', [0, 1, 1, 1, 1, 0, 1, 1, 0, 0])\n",
        "Gen 39: max fitness = 9, target = 10, indiviudal = array('b', [0, 1, 1, 1, 1, 0, 1, 1, 0, 0])\n",
        "Gen 40: max fitness = 9, target = 10, indiviudal = array('b', [1, 1, 0, 1, 1, 1, 1, 1, 0, 0])\n",
        "Gen 41: max fitness = 9, target = 10, indiviudal = array('b', [1, 1, 1, 0, 1, 0, 1, 1, 0, 1])"
       ]
      },
      {
       "output_type": "stream",
       "stream": "stdout",
       "text": [
        "\n",
        "Gen 42: max fitness = 9, target = 10, indiviudal = array('b', [1, 1, 1, 0, 1, 0, 1, 1, 0, 1])\n",
        "Gen 43: max fitness = 9, target = 10, indiviudal = array('b', [1, 1, 1, 0, 1, 0, 1, 1, 0, 1])\n",
        "Gen 44: max fitness = 9, target = 10, indiviudal = array('b', [1, 1, 1, 1, 1, 0, 1, 0, 0, 1])\n",
        "Gen 45: max fitness = 9, target = 10, indiviudal = array('b', [1, 1, 1, 1, 1, 1, 1, 1, 0, 0])\n",
        "Gen 46: max fitness = 9, target = 10, indiviudal = array('b', [1, 1, 1, 1, 1, 0, 1, 0, 0, 1])\n",
        "Gen 47: max fitness = 9, target = 10, indiviudal = array('b', [1, 1, 1, 1, 1, 0, 1, 0, 0, 1])\n",
        "Gen 48: max fitness = 9, target = 10, indiviudal = array('b', [1, 1, 1, 1, 1, 0, 1, 0, 0, 1])\n",
        "Gen 49: max fitness = 9, target = 10, indiviudal = array('b', [1, 1, 1, 1, 1, 0, 1, 0, 0, 1])\n",
        "Gen 50: max fitness = 9, target = 10, indiviudal = array('b', [1, 1, 1, 1, 1, 0, 1, 0, 0, 1])\n",
        "Gen 51: max fitness = 9, target = 10, indiviudal = array('b', [0, 1, 1, 1, 1, 0, 1, 1, 0, 0])\n",
        "Gen 52: max fitness = 9, target = 10, indiviudal = array('b', [0, 1, 1, 1, 1, 0, 1, 1, 0, 0])\n",
        "Gen 53: max fitness = 9, target = 10, indiviudal = array('b', [1, 1, 1, 1, 1, 0, 1, 1, 0, 0])\n",
        "Gen 54: max fitness = 9, target = 10, indiviudal = array('b', [1, 1, 1, 1, 1, 0, 1, 0, 0, 1])\n",
        "Gen 55: max fitness = 9, target = 10, indiviudal = array('b', [1, 1, 1, 1, 1, 0, 1, 0, 0, 1])\n",
        "Gen 56: max fitness = 9, target = 10, indiviudal = array('b', [1, 1, 1, 1, 1, 0, 1, 0, 0, 1])\n",
        "Gen 57: max fitness = 9, target = 10, indiviudal = array('b', [1, 1, 1, 1, 1, 0, 1, 0, 0, 1])\n",
        "Gen 58: max fitness = 9, target = 10, indiviudal = array('b', [1, 1, 1, 1, 1, 0, 1, 0, 0, 1])\n",
        "Gen 59: max fitness = 9, target = 10, indiviudal = array('b', [1, 1, 1, 1, 1, 0, 1, 0, 0, 1])\n",
        "Gen 60: max fitness = 9, target = 10, indiviudal = array('b', [1, 1, 1, 0, 1, 0, 1, 1, 0, 1])\n",
        "Gen 61: max fitness = 9, target = 10, indiviudal = array('b', [1, 1, 1, 0, 1, 0, 1, 1, 0, 1])\n",
        "Gen 62: max fitness = 9, target = 10, indiviudal = array('b', [1, 1, 1, 1, 1, 0, 1, 1, 0, 1])\n",
        "Gen 63: max fitness = 9, target = 10, indiviudal = array('b', [1, 1, 1, 0, 1, 0, 1, 1, 0, 1])\n",
        "Gen 64: max fitness = 9, target = 10, indiviudal = array('b', [1, 1, 0, 1, 0, 1, 1, 1, 1, 1])\n",
        "Gen 65: max fitness = 9, target = 10, indiviudal = array('b', [1, 1, 1, 1, 1, 0, 1, 0, 0, 1])\n",
        "Gen 66: max fitness = 9, target = 10, indiviudal = array('b', [1, 1, 1, 1, 1, 0, 1, 0, 0, 1])\n",
        "Gen 67: max fitness = 9, target = 10, indiviudal = array('b', [1, 1, 1, 1, 1, 0, 1, 0, 0, 1])\n",
        "Gen 68: max fitness = 9, target = 10, indiviudal = array('b', [1, 1, 1, 1, 1, 0, 1, 0, 0, 1])\n",
        "Gen 69: max fitness = 9, target = 10, indiviudal = array('b', [1, 1, 1, 1, 1, 0, 1, 1, 0, 1])\n",
        "Gen 70: max fitness = 9, target = 10, indiviudal = array('b', [1, 1, 1, 1, 1, 0, 1, 1, 0, 1])\n",
        "Gen 71: max fitness = 9, target = 10, indiviudal = array('b', [1, 1, 1, 1, 1, 0, 1, 1, 0, 1])\n",
        "Gen 72: max fitness = 9, target = 10, indiviudal = array('b', [1, 1, 1, 1, 1, 0, 1, 1, 0, 1])\n",
        "Gen 73: max fitness = 9, target = 10, indiviudal = array('b', [1, 1, 0, 1, 0, 1, 1, 1, 1, 1])\n",
        "Gen 74: max fitness = 9, target = 10, indiviudal = array('b', [1, 1, 1, 0, 1, 0, 1, 1, 0, 1])\n",
        "Gen 75: max fitness = 9, target = 10, indiviudal = array('b', [1, 1, 1, 0, 1, 0, 1, 1, 0, 1])\n",
        "Gen 76: max fitness = 9, target = 10, indiviudal = array('b', [1, 1, 1, 1, 1, 0, 1, 1, 0, 1])\n",
        "Gen 77: max fitness = 9, target = 10, indiviudal = array('b', [1, 1, 1, 1, 1, 0, 1, 1, 0, 1])\n",
        "Gen 78: max fitness = 9, target = 10, indiviudal = array('b', [1, 1, 1, 1, 1, 0, 1, 1, 0, 1])\n",
        "Gen 79: max fitness = 9, target = 10, indiviudal = array('b', [1, 1, 1, 1, 1, 0, 1, 1, 0, 1])\n",
        "Gen 80: max fitness = 9, target = 10, indiviudal = array('b', [1, 1, 1, 1, 1, 0, 1, 1, 0, 1])\n",
        "Gen 81: max fitness = 9, target = 10, indiviudal = array('b', [1, 1, 1, 1, 1, 0, 1, 1, 0, 1])\n",
        "Gen 82: max fitness = 9, target = 10, indiviudal = array('b', [1, 1, 1, 1, 1, 0, 1, 1, 0, 1])\n",
        "Gen 83: max fitness = 9, target = 10, indiviudal = array('b', [1, 1, 1, 1, 1, 0, 1, 1, 0, 1])\n",
        "Gen 84: max fitness = 9, target = 10, indiviudal = array('b', [1, 1, 1, 1, 1, 0, 1, 1, 0, 1])\n",
        "Gen 85: max fitness = 9, target = 10, indiviudal = array('b', [1, 1, 1, 1, 1, 0, 1, 1, 0, 1])\n",
        "Gen 86: max fitness = 9, target = 10, indiviudal = array('b', [1, 1, 1, 1, 1, 0, 1, 1, 0, 1])\n",
        "Gen 87: max fitness = 9, target = 10, indiviudal = array('b', [1, 1, 1, 1, 1, 0, 1, 1, 0, 1])\n",
        "Gen 88: max fitness = 9, target = 10, indiviudal = array('b', [1, 1, 1, 1, 1, 0, 1, 1, 0, 1])\n",
        "Gen 89: max fitness = 9, target = 10, indiviudal = array('b', [1, 1, 1, 1, 1, 0, 1, 1, 0, 1])\n",
        "Gen 90: max fitness = 9, target = 10, indiviudal = array('b', [1, 1, 1, 1, 1, 0, 1, 1, 0, 1])"
       ]
      },
      {
       "output_type": "stream",
       "stream": "stdout",
       "text": [
        "\n",
        "Gen 91: max fitness = 9, target = 10, indiviudal = array('b', [1, 1, 1, 1, 1, 0, 1, 1, 0, 1])\n",
        "Gen 92: max fitness = 9, target = 10, indiviudal = array('b', [1, 1, 1, 1, 1, 0, 1, 1, 0, 1])\n",
        "Gen 93: max fitness = 9, target = 10, indiviudal = array('b', [1, 1, 1, 1, 1, 0, 1, 1, 0, 1])\n",
        "Gen 94: max fitness = 9, target = 10, indiviudal = array('b', [1, 1, 1, 1, 1, 0, 1, 1, 0, 1])\n",
        "Gen 95: max fitness = 9, target = 10, indiviudal = array('b', [1, 1, 1, 1, 1, 0, 1, 1, 0, 1])\n",
        "Gen 96: max fitness = 9, target = 10, indiviudal = array('b', [1, 1, 1, 1, 1, 0, 1, 1, 0, 1])\n",
        "Gen 97: max fitness = 9, target = 10, indiviudal = array('b', [1, 1, 1, 1, 1, 0, 1, 1, 0, 1])\n",
        "Gen 98: max fitness = 9, target = 10, indiviudal = array('b', [1, 1, 1, 1, 1, 0, 1, 1, 0, 1])\n",
        "Gen 99: max fitness = 9, target = 10, indiviudal = array('b', [1, 1, 1, 1, 1, 0, 1, 1, 0, 1])\n",
        "Gen 100: max fitness = 9, target = 10, indiviudal = array('b', [1, 1, 1, 1, 1, 0, 1, 1, 0, 1])\n",
        "Gen 101: max fitness = 9, target = 10, indiviudal = array('b', [1, 1, 1, 1, 1, 0, 1, 1, 0, 1])\n",
        "Gen 102: max fitness = 9, target = 10, indiviudal = array('b', [1, 1, 1, 1, 1, 0, 1, 1, 0, 1])\n",
        "Gen 103: max fitness = 9, target = 10, indiviudal = array('b', [1, 1, 1, 1, 1, 0, 1, 1, 0, 1])\n",
        "Gen 104: max fitness = 9, target = 10, indiviudal = array('b', [1, 1, 1, 1, 1, 0, 1, 1, 0, 1])\n",
        "Gen 105: max fitness = 9, target = 10, indiviudal = array('b', [1, 1, 1, 1, 1, 0, 1, 1, 0, 1])\n",
        "Gen 106: max fitness = 9, target = 10, indiviudal = array('b', [1, 1, 1, 1, 1, 0, 1, 1, 0, 1])\n",
        "Gen 107: max fitness = 9, target = 10, indiviudal = array('b', [1, 1, 1, 1, 1, 0, 1, 1, 0, 1])\n",
        "Gen 108: max fitness = 9, target = 10, indiviudal = array('b', [1, 1, 1, 1, 1, 0, 1, 1, 0, 1])\n",
        "Gen 109: max fitness = 9, target = 10, indiviudal = array('b', [1, 1, 1, 1, 1, 0, 1, 1, 0, 1])\n",
        "Gen 110: max fitness = 9, target = 10, indiviudal = array('b', [1, 1, 1, 1, 1, 0, 1, 1, 0, 1])\n",
        "Gen 111: max fitness = 9, target = 10, indiviudal = array('b', [1, 1, 1, 1, 1, 0, 1, 1, 0, 1])\n",
        "Gen 112: max fitness = 9, target = 10, indiviudal = array('b', [1, 1, 1, 1, 1, 0, 1, 1, 0, 1])\n",
        "Gen 113: max fitness = 9, target = 10, indiviudal = array('b', [1, 1, 1, 1, 1, 0, 1, 1, 0, 1])\n",
        "Gen 114: max fitness = 9, target = 10, indiviudal = array('b', [1, 1, 1, 1, 1, 0, 1, 1, 0, 1])\n",
        "Gen 115: max fitness = 9, target = 10, indiviudal = array('b', [1, 1, 1, 1, 1, 0, 1, 1, 0, 1])\n",
        "Gen 116: max fitness = 9, target = 10, indiviudal = array('b', [1, 1, 1, 1, 1, 0, 1, 1, 1, 1])\n",
        "Gen 117: max fitness = 9, target = 10, indiviudal = array('b', [1, 1, 1, 1, 1, 0, 1, 1, 1, 1])\n",
        "Gen 118: max fitness = 9, target = 10, indiviudal = array('b', [1, 1, 1, 1, 1, 0, 1, 1, 1, 1])\n",
        "Gen 119: max fitness = 9, target = 10, indiviudal = array('b', [1, 1, 1, 1, 1, 0, 1, 1, 1, 1])\n",
        "Gen 120: max fitness = 9, target = 10, indiviudal = array('b', [1, 1, 1, 1, 1, 0, 1, 1, 1, 1])\n",
        "Gen 121: max fitness = 9, target = 10, indiviudal = array('b', [1, 1, 1, 0, 1, 1, 1, 1, 1, 1])\n",
        "Gen 122: max fitness = 9, target = 10, indiviudal = array('b', [1, 1, 1, 0, 1, 1, 1, 1, 1, 1])\n",
        "Gen 123: max fitness = 9, target = 10, indiviudal = array('b', [1, 1, 1, 0, 1, 1, 1, 1, 1, 1])\n",
        "Gen 124: max fitness = 9, target = 10, indiviudal = array('b', [1, 1, 1, 1, 1, 0, 1, 1, 1, 1])\n",
        "Gen 125: max fitness = 9, target = 10, indiviudal = array('b', [1, 1, 1, 1, 1, 0, 1, 1, 1, 1])\n",
        "Gen 126: max fitness = 9, target = 10, indiviudal = array('b', [1, 1, 1, 1, 1, 0, 1, 1, 1, 1])\n",
        "Gen 127: max fitness = 9, target = 10, indiviudal = array('b', [1, 1, 1, 0, 1, 1, 1, 1, 1, 1])\n",
        "Gen 128: max fitness = 9, target = 10, indiviudal = array('b', [1, 1, 1, 1, 1, 0, 1, 1, 1, 1])\n",
        "Gen 129: max fitness = 9, target = 10, indiviudal = array('b', [1, 1, 1, 1, 1, 1, 1, 1, 0, 1])\n",
        "Gen 130: max fitness = 9, target = 10, indiviudal = array('b', [1, 1, 1, 1, 1, 1, 1, 1, 0, 1])\n",
        "Gen 131: max fitness = 9, target = 10, indiviudal = array('b', [1, 1, 1, 1, 1, 1, 1, 1, 0, 1])\n",
        "Gen 132: max fitness = 9, target = 10, indiviudal = array('b', [1, 1, 1, 1, 1, 1, 1, 1, 0, 1])\n",
        "Gen 133: max fitness = 9, target = 10, indiviudal = array('b', [1, 1, 1, 1, 1, 1, 1, 1, 0, 0])\n",
        "Gen 134: max fitness = 9, target = 10, indiviudal = array('b', [1, 1, 1, 0, 1, 1, 1, 1, 0, 0])\n",
        "Gen 135: max fitness = 9, target = 10, indiviudal = array('b', [1, 1, 1, 0, 1, 1, 1, 1, 0, 0])\n",
        "Gen 136: max fitness = 9, target = 10, indiviudal = array('b', [1, 1, 1, 0, 1, 1, 1, 1, 0, 0])\n",
        "Gen 137: max fitness = 9, target = 10, indiviudal = array('b', [1, 1, 1, 0, 1, 1, 1, 1, 0, 0])\n",
        "Gen 138: max fitness = 9, target = 10, indiviudal = array('b', [1, 1, 1, 0, 1, 1, 1, 1, 0, 0])\n",
        "Gen 139: max fitness = 9, target = 10, indiviudal = array('b', [1, 1, 1, 0, 1, 1, 1, 1, 0, 0])"
       ]
      },
      {
       "output_type": "stream",
       "stream": "stdout",
       "text": [
        "\n",
        "Gen 140: max fitness = 9, target = 10, indiviudal = array('b', [1, 1, 1, 1, 1, 0, 1, 1, 0, 1])\n",
        "Gen 141: max fitness = 9, target = 10, indiviudal = array('b', [1, 1, 1, 1, 1, 0, 1, 1, 0, 1])\n",
        "Gen 142: max fitness = 9, target = 10, indiviudal = array('b', [1, 1, 1, 1, 1, 1, 1, 1, 0, 1])\n",
        "Gen 143: max fitness = 9, target = 10, indiviudal = array('b', [1, 1, 1, 1, 1, 1, 1, 1, 0, 1])\n",
        "Gen 144: max fitness = 9, target = 10, indiviudal = array('b', [1, 1, 1, 1, 1, 1, 1, 1, 0, 1])\n",
        "Gen 145: max fitness = 9, target = 10, indiviudal = array('b', [1, 1, 1, 1, 1, 0, 1, 1, 0, 1])\n",
        "Gen 146: max fitness = 9, target = 10, indiviudal = array('b', [1, 1, 1, 1, 1, 0, 1, 1, 1, 0])\n",
        "Gen 147: max fitness = 9, target = 10, indiviudal = array('b', [1, 1, 1, 1, 1, 0, 1, 1, 0, 1])\n",
        "Gen 148: max fitness = 9, target = 10, indiviudal = array('b', [1, 1, 1, 1, 1, 0, 1, 1, 0, 1])\n",
        "Gen 149: max fitness = 9, target = 10, indiviudal = array('b', [1, 1, 1, 1, 1, 1, 1, 1, 0, 1])\n",
        "Gen 150: max fitness = 9, target = 10, indiviudal = array('b', [1, 1, 1, 1, 1, 1, 1, 1, 0, 1])\n",
        "Gen 151: max fitness = 9, target = 10, indiviudal = array('b', [1, 1, 1, 1, 1, 1, 1, 0, 1, 1])\n",
        "Gen 152: max fitness = 9, target = 10, indiviudal = array('b', [1, 1, 1, 0, 1, 1, 1, 0, 1, 1])\n",
        "Gen 153: max fitness = 9, target = 10, indiviudal = array('b', [1, 1, 1, 0, 1, 1, 1, 0, 1, 1])\n",
        "Gen 154: max fitness = 9, target = 10, indiviudal = array('b', [1, 1, 1, 0, 1, 1, 1, 0, 1, 1])\n",
        "Gen 155: max fitness = 9, target = 10, indiviudal = array('b', [1, 1, 1, 0, 1, 1, 1, 0, 1, 1])\n",
        "Gen 156: max fitness = 9, target = 10, indiviudal = array('b', [1, 1, 1, 0, 1, 1, 1, 1, 1, 1])\n",
        "Gen 157: max fitness = 9, target = 10, indiviudal = array('b', [1, 1, 1, 0, 1, 1, 1, 1, 1, 1])\n",
        "Gen 158: max fitness = 9, target = 10, indiviudal = array('b', [1, 1, 1, 1, 1, 0, 1, 0, 1, 1])\n",
        "Gen 159: max fitness = 9, target = 10, indiviudal = array('b', [1, 1, 1, 1, 1, 0, 1, 0, 1, 1])\n",
        "Gen 160: max fitness = 9, target = 10, indiviudal = array('b', [1, 1, 1, 1, 1, 0, 1, 0, 1, 1])\n",
        "Gen 161: max fitness = 9, target = 10, indiviudal = array('b', [1, 1, 1, 1, 1, 0, 1, 0, 1, 1])\n",
        "Gen 162: max fitness = 9, target = 10, indiviudal = array('b', [1, 1, 1, 1, 1, 0, 1, 0, 1, 1])\n",
        "Gen 163: max fitness = 9, target = 10, indiviudal = array('b', [1, 1, 1, 1, 1, 0, 1, 0, 1, 1])\n",
        "Gen 164: max fitness = 9, target = 10, indiviudal = array('b', [1, 1, 1, 1, 1, 0, 1, 0, 1, 1])\n",
        "Gen 165: max fitness = 9, target = 10, indiviudal = array('b', [1, 1, 1, 1, 1, 0, 1, 0, 1, 1])\n",
        "Gen 166: max fitness = 9, target = 10, indiviudal = array('b', [1, 1, 1, 0, 1, 1, 1, 0, 1, 1])\n",
        "Gen 167: max fitness = 9, target = 10, indiviudal = array('b', [1, 1, 1, 0, 1, 1, 1, 0, 1, 1])\n",
        "Gen 168: max fitness = 9, target = 10, indiviudal = array('b', [1, 1, 1, 1, 1, 1, 1, 0, 1, 1])\n",
        "Gen 169: max fitness = 9, target = 10, indiviudal = array('b', [1, 1, 1, 1, 1, 1, 1, 1, 0, 0])\n",
        "Gen 170: max fitness = 9, target = 10, indiviudal = array('b', [1, 1, 1, 1, 1, 1, 1, 1, 0, 0])\n",
        "Gen 171: max fitness = 9, target = 10, indiviudal = array('b', [1, 1, 1, 1, 1, 1, 1, 1, 0, 0])\n",
        "Gen 172: max fitness = 9, target = 10, indiviudal = array('b', [1, 1, 1, 1, 1, 1, 1, 1, 0, 0])\n",
        "Gen 173: max fitness = 9, target = 10, indiviudal = array('b', [1, 1, 1, 1, 1, 1, 1, 1, 0, 0])\n",
        "Gen 174: max fitness = 9, target = 10, indiviudal = array('b', [1, 1, 1, 1, 1, 1, 1, 0, 1, 1])\n",
        "Gen 175: max fitness = 9, target = 10, indiviudal = array('b', [1, 1, 1, 1, 1, 1, 1, 0, 1, 1])\n",
        "Gen 176: max fitness = 9, target = 10, indiviudal = array('b', [1, 1, 1, 1, 1, 1, 1, 0, 1, 1])\n",
        "Gen 177: max fitness = 9, target = 10, indiviudal = array('b', [1, 1, 1, 1, 1, 1, 1, 0, 1, 0])\n",
        "Gen 178: max fitness = 9, target = 10, indiviudal = array('b', [1, 1, 1, 1, 1, 0, 1, 1, 0, 1])\n",
        "Gen 179: max fitness = 9, target = 10, indiviudal = array('b', [1, 1, 1, 1, 1, 0, 1, 1, 0, 1])\n",
        "Gen 180: max fitness = 9, target = 10, indiviudal = array('b', [1, 1, 1, 1, 1, 0, 1, 1, 0, 1])\n",
        "Gen 181: max fitness = 9, target = 10, indiviudal = array('b', [1, 1, 1, 1, 1, 0, 1, 1, 0, 1])\n",
        "Gen 182: max fitness = 9, target = 10, indiviudal = array('b', [1, 1, 1, 1, 1, 0, 1, 1, 0, 1])\n",
        "Gen 183: max fitness = 9, target = 10, indiviudal = array('b', [1, 1, 1, 1, 1, 1, 1, 0, 1, 0])\n",
        "Gen 184: max fitness = 9, target = 10, indiviudal = array('b', [1, 1, 1, 1, 1, 1, 1, 0, 0, 1])\n",
        "Gen 185: max fitness = 9, target = 10, indiviudal = array('b', [1, 1, 1, 1, 1, 1, 1, 0, 0, 1])\n",
        "Gen 186: max fitness = 9, target = 10, indiviudal = array('b', [1, 1, 1, 1, 1, 1, 1, 0, 0, 1])\n",
        "Gen 187: max fitness = 9, target = 10, indiviudal = array('b', [1, 1, 1, 1, 1, 0, 1, 1, 1, 0])\n",
        "Gen 188: max fitness = 9, target = 10, indiviudal = array('b', [1, 0, 1, 1, 1, 0, 1, 1, 1, 1])"
       ]
      },
      {
       "output_type": "stream",
       "stream": "stdout",
       "text": [
        "\n",
        "Gen 189: max fitness = 9, target = 10, indiviudal = array('b', [1, 1, 1, 0, 1, 0, 1, 1, 1, 1])\n",
        "Gen 190: max fitness = 9, target = 10, indiviudal = array('b', [1, 1, 1, 0, 1, 0, 1, 1, 1, 1])\n",
        "Gen 191: max fitness = 9, target = 10, indiviudal = array('b', [1, 1, 1, 0, 1, 0, 1, 1, 1, 1])\n",
        "Gen 192: max fitness = 9, target = 10, indiviudal = array('b', [1, 0, 1, 1, 1, 0, 1, 1, 1, 0])\n",
        "Gen 193: max fitness = 9, target = 10, indiviudal = array('b', [1, 1, 0, 1, 1, 1, 1, 1, 1, 0])\n",
        "Gen 194: max fitness = 9, target = 10, indiviudal = array('b', [1, 1, 0, 1, 1, 0, 1, 1, 1, 1])\n",
        "Gen 195: max fitness = 9, target = 10, indiviudal = array('b', [1, 1, 1, 1, 1, 0, 1, 1, 1, 1])\n",
        "Gen 196: max fitness = 9, target = 10, indiviudal = array('b', [1, 1, 1, 1, 1, 0, 1, 1, 1, 1])\n",
        "Gen 197: max fitness = 9, target = 10, indiviudal = array('b', [1, 1, 1, 1, 1, 0, 1, 1, 0, 1])\n",
        "Gen 198: max fitness = 9, target = 10, indiviudal = array('b', [1, 1, 1, 1, 1, 0, 1, 1, 0, 1])\n",
        "Gen 199: max fitness = 9, target = 10, indiviudal = array('b', [1, 0, 1, 1, 1, 0, 1, 1, 0, 1])\n"
       ]
      },
      {
       "metadata": {},
       "output_type": "pyout",
       "prompt_number": 45,
       "text": [
        "[<matplotlib.lines.Line2D at 0x10efef490>]"
       ]
      },
      {
       "metadata": {},
       "output_type": "display_data",
       "png": "[encoded data removed]",
       "text": [
        "<matplotlib.figure.Figure at 0x10ecf93d0>"
       ]
      }
     ],
     "prompt_number": 45
    },
    {
     "cell_type": "code",
     "collapsed": false,
     "input": [
      "max(fits)"
     ],
     "language": "python",
     "metadata": {},
     "outputs": [
      {
       "metadata": {},
       "output_type": "pyout",
       "prompt_number": 38,
       "text": [
        "(16,)"
       ]
      }
     ],
     "prompt_number": 38
    },
    {
     "cell_type": "code",
     "collapsed": false,
     "input": [
      "import numpy as np\n",
      "\n",
      "print max(fits), np.argmax(fits)"
     ],
     "language": "python",
     "metadata": {},
     "outputs": [
      {
       "output_type": "stream",
       "stream": "stdout",
       "text": [
        "(5,) 68\n"
       ]
      }
     ],
     "prompt_number": 20
    },
    {
     "cell_type": "code",
     "collapsed": false,
     "input": [
      "population[np.argmax(fits)]"
     ],
     "language": "python",
     "metadata": {},
     "outputs": [
      {
       "metadata": {},
       "output_type": "pyout",
       "prompt_number": 21,
       "text": [
        "array('b', [1, 1, 1, 1, 1])"
       ]
      }
     ],
     "prompt_number": 21
    },
    {
     "cell_type": "code",
     "collapsed": false,
     "input": [
      "evalOneMax(population[172])"
     ],
     "language": "python",
     "metadata": {},
     "outputs": [
      {
       "metadata": {},
       "output_type": "pyout",
       "prompt_number": 17,
       "text": [
        "(47,)"
       ]
      }
     ],
     "prompt_number": 17
    },
    {
     "cell_type": "code",
     "collapsed": false,
     "input": [],
     "language": "python",
     "metadata": {},
     "outputs": []
    }
   ],
   "metadata": {}
  }
 ]
}