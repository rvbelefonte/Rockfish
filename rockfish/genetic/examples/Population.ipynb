{
 "metadata": {
  "name": ""
 },
 "nbformat": 3,
 "nbformat_minor": 0,
 "worksheets": [
  {
   "cells": [
    {
     "cell_type": "heading",
     "level": 1,
     "metadata": {},
     "source": [
      "Creating, cloning, mutating, and crossing a population"
     ]
    },
    {
     "cell_type": "code",
     "collapsed": false,
     "input": [
      "import matplotlib.pyplot as plt\n",
      "import numpy as np\n",
      "from rockfish.genetic.genetic import Population"
     ],
     "language": "python",
     "metadata": {},
     "outputs": [],
     "prompt_number": 1
    },
    {
     "cell_type": "code",
     "collapsed": false,
     "input": [
      "npop = 100\n",
      "ind = np.random.rand(npop, 2)\n",
      "\n",
      "# set fitness to favor points near the center of the box\n",
      "fit = 1. / np.abs(ind[:, 0] - 0.5)\n",
      "\n",
      "pop = Population(individuals=ind, fitness=fit)\n",
      "\n",
      "pop.individuals.shape"
     ],
     "language": "python",
     "metadata": {},
     "outputs": [
      {
       "metadata": {},
       "output_type": "pyout",
       "prompt_number": 2,
       "text": [
        "(100, 2)"
       ]
      }
     ],
     "prompt_number": 2
    },
    {
     "cell_type": "code",
     "collapsed": false,
     "input": [
      "fig = plt.figure()\n",
      "ax = fig.add_subplot(111)\n",
      "plt.xlim(0, 1)\n",
      "plt.ylim(0, 1)\n",
      "\n",
      "ax.plot(pop.individuals[:, 0], pop.individuals[:, 1], '.')"
     ],
     "language": "python",
     "metadata": {},
     "outputs": [
      {
       "metadata": {},
       "output_type": "pyout",
       "prompt_number": 3,
       "text": [
        "[<matplotlib.lines.Line2D at 0x10d9f1d90>]"
       ]
      },
      {
       "metadata": {},
       "output_type": "display_data",
       "png": "[encoded data removed]",
       "text": [
        "<matplotlib.figure.Figure at 0x10da3ff90>"
       ]
      }
     ],
     "prompt_number": 3
    },
    {
     "cell_type": "code",
     "collapsed": false,
     "input": [
      "fig = plt.figure()\n",
      "ax = fig.add_subplot(111)\n",
      "plt.xlim(0, 1)\n",
      "plt.ylim(0, 1)\n",
      "\n",
      "ax.plot(pop.individuals[:, 0], pop.individuals[:, 1], '.k')\n",
      "pop.clone()\n",
      "ax.plot(pop.individuals[:, 0], pop.individuals[:, 1], '.r')\n",
      "\n",
      "print pop.individuals.shape"
     ],
     "language": "python",
     "metadata": {},
     "outputs": [
      {
       "output_type": "stream",
       "stream": "stdout",
       "text": [
        "(100, 2)\n"
       ]
      },
      {
       "metadata": {},
       "output_type": "display_data",
       "png": "[encoded data removed]",
       "text": [
        "<matplotlib.figure.Figure at 0x10e386190>"
       ]
      }
     ],
     "prompt_number": 14
    },
    {
     "cell_type": "code",
     "collapsed": false,
     "input": [
      "fig = plt.figure()\n",
      "ax = fig.add_subplot(111)\n",
      "plt.xlim(0, 1)\n",
      "plt.ylim(0, 1)\n",
      "\n",
      "ax.plot(pop.individuals[:, 0], pop.individuals[:, 1], '.k')\n",
      "pop.mutate()\n",
      "ax.plot(pop.individuals[:, 0], pop.individuals[:, 1], '.r')\n",
      "\n",
      "print pop.individuals.shape"
     ],
     "language": "python",
     "metadata": {},
     "outputs": [
      {
       "output_type": "stream",
       "stream": "stdout",
       "text": [
        "(100, 2)\n"
       ]
      },
      {
       "metadata": {},
       "output_type": "display_data",
       "png": "[encoded data removed]",
       "text": [
        "<matplotlib.figure.Figure at 0x10e9a6910>"
       ]
      }
     ],
     "prompt_number": 26
    },
    {
     "cell_type": "code",
     "collapsed": false,
     "input": [
      "fig = plt.figure()\n",
      "ax = fig.add_subplot(111)\n",
      "plt.xlim(0, 1)\n",
      "plt.ylim(0, 1)\n",
      "\n",
      "ax.plot(pop.individuals[:, 0], pop.individuals[:, 1], '.k')\n",
      "pop.crossover()\n",
      "ax.plot(pop.individuals[:, 0], pop.individuals[:, 1], '.r')\n",
      "\n",
      "print pop.individuals.shape"
     ],
     "language": "python",
     "metadata": {},
     "outputs": [
      {
       "output_type": "stream",
       "stream": "stdout",
       "text": [
        "(100, 2)\n"
       ]
      },
      {
       "metadata": {},
       "output_type": "display_data",
       "png": "[encoded data removed]",
       "text": [
        "<matplotlib.figure.Figure at 0x10e941c50>"
       ]
      }
     ],
     "prompt_number": 33
    },
    {
     "cell_type": "code",
     "collapsed": false,
     "input": [
      "ind0 = np.random.rand(50, 10)\n",
      "pop = Population(individuals=ind0, fitness=ind0)"
     ],
     "language": "python",
     "metadata": {},
     "outputs": [],
     "prompt_number": 42
    },
    {
     "cell_type": "code",
     "collapsed": false,
     "input": [],
     "language": "python",
     "metadata": {},
     "outputs": []
    }
   ],
   "metadata": {}
  }
 ]
}