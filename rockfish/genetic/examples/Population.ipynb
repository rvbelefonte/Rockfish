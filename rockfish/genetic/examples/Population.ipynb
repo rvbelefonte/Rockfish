{
 "metadata": {
  "name": ""
 },
 "nbformat": 3,
 "nbformat_minor": 0,
 "worksheets": [
  {
   "cells": [
    {
     "cell_type": "heading",
     "level": 1,
     "metadata": {},
     "source": [
      "Creating, cloning, mutating, and crossing a population"
     ]
    },
    {
     "cell_type": "code",
     "collapsed": false,
     "input": [
      "import matplotlib.pyplot as plt\n",
      "import numpy as np\n",
      "from rockfish.genetic.genetic import Population"
     ],
     "language": "python",
     "metadata": {},
     "outputs": [],
     "prompt_number": 1
    },
    {
     "cell_type": "code",
     "collapsed": false,
     "input": [
      "npop = 100\n",
      "ind = np.random.rand(npop, 2)\n",
      "\n",
      "# set fitness to favor points near the center of the box\n",
      "fit = 1. / np.abs(ind[:, 0] - 0.5)\n",
      "\n",
      "pop = Population(individuals=ind, fitness=fit)\n",
      "\n",
      "pop.individuals.shape"
     ],
     "language": "python",
     "metadata": {},
     "outputs": [
      {
       "metadata": {},
       "output_type": "pyout",
       "prompt_number": 2,
       "text": [
        "(100, 2)"
       ]
      }
     ],
     "prompt_number": 2
    },
    {
     "cell_type": "code",
     "collapsed": false,
     "input": [
      "fig = plt.figure()\n",
      "ax = fig.add_subplot(111)\n",
      "plt.xlim(0, 1)\n",
      "plt.ylim(0, 1)\n",
      "\n",
      "ax.plot(pop.individuals[:, 0], pop.individuals[:, 1], '.')"
     ],
     "language": "python",
     "metadata": {},
     "outputs": [
      {
       "metadata": {},
       "output_type": "pyout",
       "prompt_number": 3,
       "text": [
        "[<matplotlib.lines.Line2D at 0x10c365c50>]"
       ]
      },
      {
       "metadata": {},
       "output_type": "display_data",
       "png": "[encoded data removed]",
       "text": [
        "<matplotlib.figure.Figure at 0x10c336ed0>"
       ]
      }
     ],
     "prompt_number": 3
    },
    {
     "cell_type": "code",
     "collapsed": false,
     "input": [
      "pop.clone()\n",
      "\n",
      "print pop.individuals.shape\n",
      "\n",
      "fig = plt.figure()\n",
      "ax = fig.add_subplot(111)\n",
      "plt.xlim(0, 1)\n",
      "plt.ylim(0, 1)\n",
      "\n",
      "ax.plot(pop.individuals[:, 0], pop.individuals[:, 1], '.')"
     ],
     "language": "python",
     "metadata": {},
     "outputs": [
      {
       "output_type": "stream",
       "stream": "stdout",
       "text": [
        "(100, 2, 2)\n"
       ]
      },
      {
       "metadata": {},
       "output_type": "pyout",
       "prompt_number": 4,
       "text": [
        "[<matplotlib.lines.Line2D at 0x10c6154d0>,\n",
        " <matplotlib.lines.Line2D at 0x10c615650>]"
       ]
      },
      {
       "metadata": {},
       "output_type": "display_data",
       "png": "[encoded data removed]",
       "text": [
        "<matplotlib.figure.Figure at 0x10c33f4d0>"
       ]
      }
     ],
     "prompt_number": 4
    },
    {
     "cell_type": "code",
     "collapsed": false,
     "input": [
      "pop.mutate(p=0.5)\n",
      "\n",
      "fig = plt.figure()\n",
      "ax = fig.add_subplot(111)\n",
      "plt.xlim(0, 1)\n",
      "plt.ylim(0, 1)\n",
      "\n",
      "ax.plot(pop.individuals[:, 0], pop.individuals[:, 1], '.')"
     ],
     "language": "python",
     "metadata": {},
     "outputs": [
      {
       "metadata": {},
       "output_type": "pyout",
       "prompt_number": 5,
       "text": [
        "[<matplotlib.lines.Line2D at 0x10c5c38d0>,\n",
        " <matplotlib.lines.Line2D at 0x10c5c3a50>]"
       ]
      },
      {
       "metadata": {},
       "output_type": "display_data",
       "png": "[encoded data removed]",
       "text": [
        "<matplotlib.figure.Figure at 0x10c2c5c50>"
       ]
      }
     ],
     "prompt_number": 5
    },
    {
     "cell_type": "code",
     "collapsed": false,
     "input": [
      "pop.crossover()\n",
      "\n",
      "fig = plt.figure()\n",
      "ax = fig.add_subplot(111)\n",
      "plt.xlim(0, 1)\n",
      "plt.ylim(0, 1)\n",
      "\n",
      "ax.plot(pop.individuals[:, 0], pop.individuals[:, 1], '.')"
     ],
     "language": "python",
     "metadata": {},
     "outputs": [
      {
       "metadata": {},
       "output_type": "pyout",
       "prompt_number": 6,
       "text": [
        "[<matplotlib.lines.Line2D at 0x10c5f4fd0>,\n",
        " <matplotlib.lines.Line2D at 0x10c5f7190>]"
       ]
      },
      {
       "metadata": {},
       "output_type": "display_data",
       "png": "[encoded data removed]",
       "text": [
        "<matplotlib.figure.Figure at 0x10c5d4650>"
       ]
      }
     ],
     "prompt_number": 6
    }
   ],
   "metadata": {}
  }
 ]
}